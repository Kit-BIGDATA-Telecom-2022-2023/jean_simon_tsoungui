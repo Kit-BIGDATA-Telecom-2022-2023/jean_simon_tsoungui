{
 "cells": [
  {
   "cell_type": "markdown",
   "metadata": {},
   "source": [
    "# Projet maison n° 3"
   ]
  },
  {
   "cell_type": "code",
   "execution_count": 68,
   "metadata": {},
   "outputs": [],
   "source": [
    "# imports\n",
    "import pandas as pd"
   ]
  },
  {
   "cell_type": "markdown",
   "metadata": {},
   "source": [
    "## 1. US baby names\n",
    "\n",
    "On va s'intéresser au dataset **National data** de la SSA : https://www.ssa.gov/oact/babynames/limits.html\n",
    "\n",
    "1. Télécharger le dataset des prénoms US : https://www.ssa.gov/oact/babynames/names.zip\n",
    "\n",
    "Lire la documentation associée.\n",
    "\n",
    "2. Implémenter une fonction Python `df_names_us()` qui produit un unique DataFrame avec tous les fichiers en utilisant **pandas** (par ex. avec la fonction `pandas.concat()`), pas de bash :)\n",
    "\n",
    "Ordre et noms des colonnes du DataFrame : \"year\", \"name\", \"gender\", \"births\"\n",
    "\n",
    "Le DataFrame doit être trié selon l'année croissante puis selon l'ordre défini dans les différents fichiers (voir la documentation du dataset)."
   ]
  },
  {
   "cell_type": "code",
   "execution_count": 114,
   "metadata": {},
   "outputs": [],
   "source": [
    "# names us\n",
    "import glob\n",
    "def df_names_us():\n",
    "    #df = pd.DataFrame()\n",
    "\n",
    "    names_us_files = [names_us_filename for names_us_filename in glob.glob(\"names_us/\"+\"*.txt\")]\n",
    "    \n",
    "    lst_dfs = []\n",
    "    for names_us_filename in names_us_files:\n",
    "        df_tmp = pd.read_csv(names_us_filename, names=['name', 'gender', 'births'], header=None)\n",
    "        df_tmp.insert(0, 'year', names_us_filename[12:16])\n",
    "        lst_dfs.append(df_tmp)\n",
    "        \n",
    "    df = pd.concat(lst_dfs, ignore_index=True)\n",
    "    return df"
   ]
  },
  {
   "cell_type": "code",
   "execution_count": 118,
   "metadata": {},
   "outputs": [
    {
     "name": "stdout",
     "output_type": "stream",
     "text": [
      "         year       name gender  births\n",
      "0        1880       Mary      F    7065\n",
      "1        1880       Anna      F    2604\n",
      "2        1880       Emma      F    2003\n",
      "3        1880  Elizabeth      F    1939\n",
      "4        1880     Minnie      F    1746\n",
      "...       ...        ...    ...     ...\n",
      "2052776  2021     Zyeire      M       5\n",
      "2052777  2021       Zyel      M       5\n",
      "2052778  2021      Zyian      M       5\n",
      "2052779  2021      Zylar      M       5\n",
      "2052780  2021        Zyn      M       5\n",
      "\n",
      "[2052781 rows x 4 columns]\n",
      "<class 'pandas.core.frame.DataFrame'>\n",
      "RangeIndex: 2052781 entries, 0 to 2052780\n",
      "Data columns (total 4 columns):\n",
      " #   Column  Dtype \n",
      "---  ------  ----- \n",
      " 0   year    object\n",
      " 1   name    object\n",
      " 2   gender  object\n",
      " 3   births  int64 \n",
      "dtypes: int64(1), object(3)\n",
      "memory usage: 62.6+ MB\n"
     ]
    }
   ],
   "source": [
    "print (df_names_us())\n",
    "df_names_us().info()"
   ]
  },
  {
   "cell_type": "code",
   "execution_count": 296,
   "metadata": {},
   "outputs": [
    {
     "name": "stdout",
     "output_type": "stream",
     "text": [
      "Attribute references\n",
      "********************\n",
      "\n",
      "An attribute reference is a primary followed by a period and a name:\n",
      "\n",
      "   attributeref ::= primary \".\" identifier\n",
      "\n",
      "The primary must evaluate to an object of a type that supports\n",
      "attribute references, which most objects do.  This object is then\n",
      "asked to produce the attribute whose name is the identifier.  This\n",
      "production can be customized by overriding the \"__getattr__()\" method.\n",
      "If this attribute is not available, the exception \"AttributeError\" is\n",
      "raised.  Otherwise, the type and value of the object produced is\n",
      "determined by the object.  Multiple evaluations of the same attribute\n",
      "reference may yield different objects.\n",
      "\n",
      "Related help topics: getattr, hasattr, setattr, ATTRIBUTEMETHODS, FLOAT,\n",
      "MODULES, OBJECTS\n",
      "\n"
     ]
    }
   ],
   "source": [
    "import os\n",
    "os.curdir()"
   ]
  },
  {
   "cell_type": "markdown",
   "metadata": {},
   "source": [
    "## 2. Prénoms français"
   ]
  },
  {
   "cell_type": "markdown",
   "metadata": {},
   "source": [
    "On va s'intéresser au dataset **Fichiers France hors Mayotte** de l'INSEE :  https://www.insee.fr/fr/statistiques/2540004/\n",
    "\n",
    "L'idée est de charger les données et ensuite de les conformer au DataFrame des prénoms US. Ainsi, toute manipulation sur le DataFrame des prénoms US pourra être directement réutilisée avec le DataFrame des prénoms français.\n",
    " \n",
    "1. Télécharger le dataset des prénoms français : https://www.insee.fr/fr/statistiques/fichier/2540004/nat2021_csv.zip\n",
    "\n",
    "\n",
    "Lire la documentation, ça peut être utile...\n",
    " \n",
    "2. Implémenter une fonction `df_names_fr()` qui produit un DataFrame avec les prénoms français en prenant le DataFrame des prénoms US comme modèle :\n",
    " \n",
    " - Même ordre et mêmes noms des colonnes : \"year\", \"name\", \"gender\", \"births\"\n",
    " - Mêmes dtypes pour les colonnes\n",
    " - Mêmes valeurs pour la colonne \"gender\"\n",
    " - Seuls les prénoms de 2 caractères et plus sont conservés\n",
    " - La casse des prénoms doit être identique : initiales en majuscule, autres lettres en minuscule\n",
    " - Les lignes avec des données inutilisables doivent être supprimées\n",
    " - Les données sont triées à l'identique : year (↑), puis gender (↑), puis births (↓) et enfin name (↑)\n",
    " - L'index du DataFrame doit aller de 0 à N-1"
   ]
  },
  {
   "cell_type": "code",
   "execution_count": 116,
   "metadata": {},
   "outputs": [],
   "source": [
    "# names fr\n",
    "def df_names_fr1():\n",
    "\n",
    "    df = pd.read_csv(\"names_fr/nat2021.csv\",sep=';',dtype= str).drop(index = 0)\n",
    "    df = df[['annais', 'preusuel', 'sexe', 'nombre']]\n",
    "    df = df.rename(columns={\"annais\": \"year\", \"preusuel\": \"name\", \"sexe\":\"gender\", \"nombre\":\"births\"})   \n",
    "\n",
    "    df['gender'] = df['gender'].apply(lambda x: 'M' if (x==1) else 'F')\n",
    "        \n",
    "    df = df[df['name'].apply(lambda x : len(str(x))) > 1]  \n",
    "    \n",
    "    df = df[df[\"name\"] != \"_PRENOMS_RARES\"]\n",
    "    df = df[df[\"year\"] != \"XXXX\"] \n",
    "    df['name'] = df['name'].apply(lambda x : str(x).title()) \n",
    "\n",
    "    df = df.sort_values(by=[\"year\", \"gender\", \"births\", \"name\"], ascending=[True, True, False, True])\n",
    "    df.index = pd.RangeIndex(len(df))\n",
    "\n",
    "    return df"
   ]
  },
  {
   "cell_type": "code",
   "execution_count": 236,
   "metadata": {},
   "outputs": [
    {
     "data": {
      "text/plain": [
       "0          True\n",
       "1          True\n",
       "2          True\n",
       "3          True\n",
       "4          True\n",
       "           ... \n",
       "2052776    True\n",
       "2052777    True\n",
       "2052778    True\n",
       "2052779    True\n",
       "2052780    True\n",
       "Name: name, Length: 2052781, dtype: bool"
      ]
     },
     "execution_count": 236,
     "metadata": {},
     "output_type": "execute_result"
    }
   ],
   "source": [
    "# print(df_names_fr())\n",
    "# df_names_us().info()"
   ]
  },
  {
   "cell_type": "markdown",
   "metadata": {},
   "source": [
    "## 3. Taux de change\n",
    "\n",
    "On va s'intéresser au dataset des cours des devises de la Banque de France :  http://webstat.banque-france.fr/fr/browseBox.do?node=5385566\n",
    "\n",
    "Les données sont dans le fichier \"Webstat_Export.csv\".\n",
    "\n",
    "L'idée est de charger les données, de les nettoyer et de pouvoir accéder aux cours de certaines devises à partir de leur code ISO3. On retiendra uniquement les colonnes se terminant effectivement par un code ISO3 entre parenthèses. Par ex., \"Dollar des Etats-Unis (USD)\".\n",
    "\n",
    "Implémenter une fonction `df_taux_change()` qui produit un DataFrame avec les taux de change par date pour une liste de codes ISO3 de devises passée en argument. L'index du DataFrame doit correspondre aux dates (voir la fonction `pd.to_datetime()` avec le format`\"%d/%m/%Y\"`) et doit être trié par ordre croissant. Les colonnes du DataFrame doivent correspondre aux devises sélectionnées."
   ]
  },
  {
   "cell_type": "code",
   "execution_count": 178,
   "metadata": {},
   "outputs": [],
   "source": [
    "def df_taux_change(devise_list):\n",
    "    # PREPROCESSING.\n",
    "    # Load dataset without unusefull header\n",
    "    df = pd.read_csv('Webstat_Export.csv',sep =';', skiprows=[i for i in range(1,6)])\n",
    "    # Remove empty rows\n",
    "    condition = df[\"Dollar australien (AUD)\"]!='-'\n",
    "    df = df.loc[condition,:]\n",
    "    # Remove akward column : Roupie Indienne (100 paise)\n",
    "    df.drop(\"Roupie Indienne (100 paise)\", axis=1, inplace=True)\n",
    "    \n",
    "    # COLUMN SELECTION.\n",
    "    selected_columns = []\n",
    "    columns = list(df.columns)\n",
    "    \n",
    "    for devise in devise_list:\n",
    "        for column_name in columns:\n",
    "            if devise in column_name:\n",
    "                selected_columns.append(column_name)\n",
    "    \n",
    "    df = df[[\"Titre :\"] + selected_columns]\n",
    "    df.columns = [\"Titre :\"] + devise_list\n",
    "    \n",
    "    df = df.replace(',','.',regex=True)\n",
    "    df[devise_list] = df[devise_list].astype('float')\n",
    "    \n",
    "    df = df.rename(columns={\"Titre :\": \"Date\"})\n",
    "    df[\"Date\"] = pd.to_datetime(df[\"Date\"], format=\"%d/%m/%Y\") \n",
    "    df = df.sort_values(by=\"Date\", ascending=True)\n",
    "    df = df.set_index(\"Date\")\n",
    "\n",
    "    return df"
   ]
  },
  {
   "cell_type": "code",
   "execution_count": 184,
   "metadata": {},
   "outputs": [
    {
     "name": "stdout",
     "output_type": "stream",
     "text": [
      "<class 'pandas.core.frame.DataFrame'>\n",
      "DatetimeIndex: 6075 entries, 1999-01-04 to 2022-09-20\n",
      "Data columns (total 3 columns):\n",
      " #   Column  Non-Null Count  Dtype  \n",
      "---  ------  --------------  -----  \n",
      " 0   CHF     6075 non-null   float64\n",
      " 1   GBP     6075 non-null   float64\n",
      " 2   USD     6075 non-null   float64\n",
      "dtypes: float64(3)\n",
      "memory usage: 189.8 KB\n"
     ]
    }
   ],
   "source": [
    "# print(df_taux_change([\"CHF\", \"GBP\", \"USD\"]))\n",
    "# df_taux_change([\"CHF\", \"GBP\", \"USD\"]).info()"
   ]
  },
  {
   "cell_type": "markdown",
   "metadata": {},
   "source": [
    "### Tests"
   ]
  },
  {
   "cell_type": "code",
   "execution_count": 181,
   "metadata": {},
   "outputs": [],
   "source": [
    "import unittest\n",
    "\n",
    "class Session3Tests(unittest.TestCase):\n",
    "    def test_df_names_us(self):\n",
    "        df = df_names_us()\n",
    "        # colonnes\n",
    "        self.assertEqual(list(df.columns), [\"year\", \"name\", \"gender\", \"births\"])\n",
    "        # lignes\n",
    "        self.assertEqual(len(df), 2052781)\n",
    "        # index\n",
    "        self.assertTrue(isinstance(df.index, pd.core.indexes.range.RangeIndex))\n",
    "        # test NaN\n",
    "        self.assertTrue(df.loc[df.isnull().any(axis=1)].empty)\n",
    "        \n",
    "    def test_df_names_fr(self):\n",
    "        df = df_names_fr()\n",
    "        # colonnes\n",
    "        self.assertEqual(list(df.columns), [\"year\", \"name\", \"gender\", \"births\"])\n",
    "        # lignes\n",
    "        self.assertEqual(len(df), 648330)\n",
    "        # index\n",
    "        self.assertTrue(isinstance(df.index, pd.RangeIndex))\n",
    "        # test names\n",
    "        self.assertTrue(df.loc[df.name.str.contains(r\"^[A-Z]+$\")].empty)\n",
    "        self.assertTrue(df.loc[df.name.str.contains(r\"-[a-z]+$\")].empty)\n",
    "        # test gender\n",
    "        self.assertEqual(len(df), len(df.loc[df.gender==\"F\"]) + len(df.loc[df.gender=='M']))\n",
    "        # test NaN\n",
    "        self.assertTrue(df.loc[df.isnull().any(axis=1)].empty)\n",
    "\n",
    "    def test_df_taux_change(self):\n",
    "        df = df_taux_change([\"CHF\", \"GBP\", \"USD\"])\n",
    "        # colonnes\n",
    "        self.assertEqual(list(df.columns), [\"CHF\", \"GBP\", \"USD\"])\n",
    "        # index\n",
    "        self.assertTrue(isinstance(df.index, pd.DatetimeIndex))\n",
    "        # index trié\n",
    "        self.assertEqual(list(df.index.argsort()), list(range(len(df))))\n",
    "        # types taux\n",
    "        self.assertTrue((df.dtypes == float).all())\n",
    "        # test NaN\n",
    "        self.assertTrue(df.loc[df.isnull().any(axis=1)].empty)\n",
    "        \n",
    "# run tests\n",
    "def run_tests():\n",
    "    test_suite = unittest.makeSuite(Session3Tests)\n",
    "    runner = unittest.TextTestRunner(verbosity=2)\n",
    "    runner.run(test_suite)"
   ]
  },
  {
   "cell_type": "code",
   "execution_count": 182,
   "metadata": {},
   "outputs": [
    {
     "name": "stderr",
     "output_type": "stream",
     "text": [
      "test_df_names_fr (__main__.Session3Tests) ... ok\n",
      "test_df_names_us (__main__.Session3Tests) ... ok\n",
      "test_df_taux_change (__main__.Session3Tests) ... ok\n",
      "\n",
      "----------------------------------------------------------------------\n",
      "Ran 3 tests in 7.164s\n",
      "\n",
      "OK\n"
     ]
    }
   ],
   "source": [
    "# run tests\n",
    "run_tests()"
   ]
  }
 ],
 "metadata": {
  "kernelspec": {
   "display_name": "Python 3 (ipykernel)",
   "language": "python",
   "name": "python3"
  },
  "language_info": {
   "codemirror_mode": {
    "name": "ipython",
    "version": 3
   },
   "file_extension": ".py",
   "mimetype": "text/x-python",
   "name": "python",
   "nbconvert_exporter": "python",
   "pygments_lexer": "ipython3",
   "version": "3.9.12"
  }
 },
 "nbformat": 4,
 "nbformat_minor": 4
}
