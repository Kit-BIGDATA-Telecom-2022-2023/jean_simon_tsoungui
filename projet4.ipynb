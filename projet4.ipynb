{
 "cells": [
  {
   "cell_type": "markdown",
   "metadata": {},
   "source": [
    "# Projet maison n° 4"
   ]
  },
  {
   "cell_type": "code",
   "execution_count": 1,
   "metadata": {},
   "outputs": [
    {
     "data": {
      "application/javascript": [
       "\n",
       "            setTimeout(function() {\n",
       "                var nbb_cell_id = 1;\n",
       "                var nbb_unformatted_code = \"%load_ext nb_black\";\n",
       "                var nbb_formatted_code = \"%load_ext nb_black\";\n",
       "                var nbb_cells = Jupyter.notebook.get_cells();\n",
       "                for (var i = 0; i < nbb_cells.length; ++i) {\n",
       "                    if (nbb_cells[i].input_prompt_number == nbb_cell_id) {\n",
       "                        if (nbb_cells[i].get_text() == nbb_unformatted_code) {\n",
       "                             nbb_cells[i].set_text(nbb_formatted_code);\n",
       "                        }\n",
       "                        break;\n",
       "                    }\n",
       "                }\n",
       "            }, 500);\n",
       "            "
      ],
      "text/plain": [
       "<IPython.core.display.Javascript object>"
      ]
     },
     "metadata": {},
     "output_type": "display_data"
    }
   ],
   "source": [
    "%load_ext nb_black"
   ]
  },
  {
   "cell_type": "code",
   "execution_count": 2,
   "metadata": {},
   "outputs": [],
   "source": [
    "# imports\n",
    "import requests\n",
    "import re\n",
    "import json\n",
    "from bs4 import BeautifulSoup\n",
    "from multiprocessing import Pool"
   ]
  },
  {
   "cell_type": "markdown",
   "metadata": {},
   "source": [
    "**Partie A**\n",
    "\n",
    "Ecrire une fonction `get_prices_from_url()` qui extrait des informations à partir des 2 pages ci-dessous.\n",
    "\n",
    "```python\n",
    "URL_PAGE2 = \"https://kim.fspot.org/cours/page2.html\"\n",
    "URL_PAGE3 = \"https://kim.fspot.org/cours/page3.html\"\n",
    "```\n",
    "\n",
    "Avec `URL_PAGE2`, la fonction doit retourner :\n",
    "\n",
    "```json\n",
    "{'Personal': {'price': '$5', 'storage': '1GB', 'databases': 1},\n",
    " 'Small Business': {'price': '$25', 'storage': '10GB', 'databases': 5},\n",
    " 'Enterprise': {'price': '$45', 'storage': '100GB', 'databases': 25}}\n",
    "```"
   ]
  },
  {
   "cell_type": "code",
   "execution_count": null,
   "metadata": {},
   "outputs": [],
   "source": [
    "# partie A\n",
    "URL_PAGE2 = \"https://kim.fspot.org/cours/page2.html\"\n",
    "URL_PAGE3 = \"https://kim.fspot.org/cours/page3.html\"\n",
    "\n",
    "\n",
    "def get_prices_from_url(url):\n",
    "    prices = {}\n",
    "\n",
    "    response = requests.get(url)\n",
    "    soup = BeautifulSoup(response.content)\n",
    "    nb_of_tables = len(list(soup.find_all(\"div\", class_=\"pricing-table-header\")))\n",
    "    for i in range(nb_of_tables):\n",
    "        # PRICE AND TITLE\n",
    "        pricing_tables = soup.find_all(\"div\", class_=\"pricing-table-header\")\n",
    "        title = pricing_tables[i].find(\"h2\").text\n",
    "        price = pricing_tables[i].find(\"span\").text\n",
    "        price = re.search(\"\\$\\d+\", price).group(0)\n",
    "\n",
    "        # FILE_STORAGE\n",
    "        pricing_table_list = soup.find_all(\"ul\", class_=\"pricing-table-list\")\n",
    "        file_storage = pricing_table_list[i].find_all(\"li\")[3].text\n",
    "        file_storage = re.search(\"\\d+[A-Z]{1,2}\", file_storage).group(0)\n",
    "\n",
    "        # DATABASE\n",
    "        database = pricing_table_list[i].find_all(\"li\")[4].text\n",
    "        database = re.search(\"\\d+\", database).group(0)\n",
    "\n",
    "        prices[title] = {\n",
    "            \"price\": price,\n",
    "            \"storage\": file_storage,\n",
    "            \"databases\": int(database),\n",
    "        }\n",
    "\n",
    "    return prices\n",
    "\n",
    "prices = get_prices_from_url(url=URL_PAGE3)\n",
    "print(prices)"
   ]
  },
  {
   "cell_type": "markdown",
   "metadata": {},
   "source": [
    "**Partie B**\n",
    "\n",
    "*L'abus d'alcool est dangereux pour la santé, à consommer avec modération.*\n",
    "\n",
    "1) Ecrire une fonction `extract_beer_infos()` qui extrait des informations sur une bière du site de bières *beowulf*.\n",
    "\n",
    "Exemple d'URL: https://www.beerwulf.com/fr-fr/p/bieres/cuvee-des-trolls.33 \n",
    "\n",
    "La fonction doit retourner :\n",
    "```json\n",
    "{'Nom': 'Cuvée des Trolls',\n",
    " 'Style': 'Bière Blonde',\n",
    " 'Contenu': 25,\n",
    " 'Degré d’alcool': 7.0,\n",
    " 'Origine': 'Belgique',\n",
    " 'Brasseur': 'Brasserie Dubuisson Freres'}\n",
    "```\n",
    "\n",
    "2) L'URL ci-après retourne un JSON avec une liste de bières :\n",
    "\n",
    "```python\n",
    "URL_BEERLIST_FRANCE = \"https://www.beerwulf.com/fr-FR/api/search/searchProducts?country=France&container=Bouteille\"\n",
    "```\n",
    "\n",
    "Ecrire une fonction `extract_beer_list_infos(url)` qui prend en argument cet URL et retourne les informations sur une liste de bières du site *beowulf*.\n",
    "\n",
    "Cette fonction doit retourner la liste des informations obtenues par la fonction précédemment définie `extract_beer_infos()`.\n",
    "\n",
    "Exemple de retour :\n",
    "\n",
    "```json\n",
    "[{'Nom':'Desperados','Style':'Lager','Contenu':33,'Degré d’alcool':5.9,'Origine':'France','Brasseur':'Desperados'},\n",
    "{'Nom':'La Lager Sans Gluten de Vézelay','Style':'Lager','Contenu':25,'Degré d’alcool':4.0,'Origine':'France','Brasseur':'Brasserie de Vézelay'},\n",
    "{'Nom':'Mélusine Bio','Style':'Pale Ale','Contenu': 33,'Degré d’alcool': 5.0,'Origine':'France','Brasseur':'Mélusine'},\n",
    "{'Nom':'La Parisienne Le Titi Parisien','Style':'IPA','Contenu':33,'Degré d’alcool':5.5,'Origine':'France','Brasseur': 'Brasserie la Parisienne'},\n",
    "{'Nom':'Brasserie De Sutter Brin de Folie','Style':'Bière Blonde','Contenu': 33,'Degré d’alcool':6.5,'Origine':'France','Brasseur':'Brasserie de Sutter'}]\n",
    "```\n",
    "\n",
    "**Facultatif**\n",
    "\n",
    "Chercher comment optimiser cette fonction en utilisant `multiprocessing.Pool()` pour paralléliser les accès web."
   ]
  },
  {
   "cell_type": "code",
   "execution_count": 6,
   "metadata": {},
   "outputs": [
    {
     "data": {
      "text/plain": [
       "{'Nom': 'Desperados - Fût 2L The SUB',\n",
       " 'Style': 'Lager',\n",
       " 'Contenu': 2,\n",
       " 'Degré d’alcool': 5.9,\n",
       " 'Origine': 'France',\n",
       " 'Brasseur': 'Desperados'}"
      ]
     },
     "execution_count": 6,
     "metadata": {},
     "output_type": "execute_result"
    }
   ],
   "source": [
    "# partie B-1\n",
    "def extract_beer_infos(url):\n",
    "\n",
    "    response = requests.get(url)\n",
    "    soup = BeautifulSoup(response.content)\n",
    "    beer_infos_tag = soup.find(\"div\", attrs={\"class\": \"small-12 content-column\"})\n",
    "\n",
    "    beer_infos = {\n",
    "        \"Nom\": beer_infos_tag.find(\"h1\").text.strip(),\n",
    "        \"Style\": beer_infos_tag.find(\"dd\", class_=\"small-6 medium-9 columns\")\n",
    "        .find(\"a\")\n",
    "        .text.strip(),\n",
    "        \"Contenu\": int(\n",
    "            beer_infos_tag.find(\"dd\", class_=\"small-6 medium-9 columns js-beer-volume\")\n",
    "            .text.strip()\n",
    "            .split()[0]\n",
    "        ),\n",
    "        \"Degré d’alcool\": float(\n",
    "            beer_infos_tag.find(\"dd\", class_=\"small-6 medium-9 columns\")\n",
    "            .find_next(\"dd\", class_=\"small-6 medium-9 columns\")\n",
    "            .text.strip()\n",
    "            .replace(\",\", \".\")\n",
    "            .replace(\"%\", \"\")\n",
    "        ),\n",
    "        \"Origine\": beer_infos_tag.find(\n",
    "            \"dd\", class_=\"small-6 medium-9 columns js-beer-country\"\n",
    "        ).text.strip(),\n",
    "        \"Brasseur\": beer_infos_tag.find(\"dd\", class_=\"small-6 medium-9 columns\")\n",
    "        .find_next(\"dd\", class_=\"small-6 medium-9 columns\")\n",
    "        .find_next(\"dd\", class_=\"small-6 medium-9 columns\")\n",
    "        .text.strip(),\n",
    "    }\n",
    "\n",
    "    return beer_infos\n",
    "\n",
    "\n",
    "beer_infos = extract_beer_infos(\n",
    "    url=\"https://www.beerwulf.com/fr-fr/p/bieres/desperados-fut-2l\"\n",
    ")\n",
    "beer_infos"
   ]
  },
  {
   "cell_type": "code",
   "execution_count": 7,
   "metadata": {},
   "outputs": [
    {
     "data": {
      "text/plain": [
       "[{'Nom': 'La Cristal IPA du Mont Blanc',\n",
       "  'Style': 'IPA',\n",
       "  'Contenu': 33,\n",
       "  'Degré d’alcool': 4.7,\n",
       "  'Origine': 'France',\n",
       "  'Brasseur': 'Mont-Blanc'},\n",
       " {'Nom': 'Ninkasi Pale Ale',\n",
       "  'Style': 'Bière Ambrée',\n",
       "  'Contenu': 33,\n",
       "  'Degré d’alcool': 4.5,\n",
       "  'Origine': 'France',\n",
       "  'Brasseur': 'Ninkasi Fabriques'},\n",
       " {'Nom': 'Desperados',\n",
       "  'Style': 'Lager',\n",
       "  'Contenu': 33,\n",
       "  'Degré d’alcool': 5.9,\n",
       "  'Origine': 'France',\n",
       "  'Brasseur': 'Desperados'},\n",
       " {'Nom': 'Pietra',\n",
       "  'Style': 'Lager',\n",
       "  'Contenu': 33,\n",
       "  'Degré d’alcool': 6.0,\n",
       "  'Origine': 'France',\n",
       "  'Brasseur': 'Brasserie Pietra'}]"
      ]
     },
     "execution_count": 7,
     "metadata": {},
     "output_type": "execute_result"
    }
   ],
   "source": [
    "##### partie B-2\n",
    "URL_BEERLIST_FRANCE = \"https://www.beerwulf.com/fr-FR/api/search/searchProducts?country=France&container=Bouteille\"\n",
    "\n",
    "\n",
    "def extract_beer_list_infos(url):\n",
    "    # Collecter les pages de bières à partir du JSON\n",
    "    beer_pages = []\n",
    "    data = requests.get(url).json()\n",
    "\n",
    "    # Sequential version (slow):\n",
    "    for item in data.get(\"items\"):\n",
    "        beer_info = extract_beer_infos(\n",
    "            \"https://www.beerwulf.com\" + item.get(\"contentReference\")\n",
    "        )\n",
    "        beer_pages.append(beer_info)\n",
    "\n",
    "    # Facultatif:\n",
    "    # Parallel version (faster):\n",
    "\n",
    "    return beer_pages\n",
    "\n",
    "\n",
    "beer_list_infos = extract_beer_list_infos(url=URL_BEERLIST_FRANCE)\n",
    "beer_list_infos"
   ]
  },
  {
   "cell_type": "code",
   "execution_count": 8,
   "metadata": {},
   "outputs": [],
   "source": [
    "import unittest\n",
    "\n",
    "\n",
    "class Session4Tests(unittest.TestCase):\n",
    "    def test_01_get_prices_from_url_page2(self):\n",
    "        prices = get_prices_from_url(URL_PAGE2)\n",
    "        # We should have found 3 products:\n",
    "        self.assertIsInstance(prices, dict)\n",
    "        self.assertEqual(len(prices), 3)\n",
    "        self.assertIn(\"Personal\", prices)\n",
    "        self.assertIn(\"Small Business\", prices)\n",
    "        self.assertIn(\"Enterprise\", prices)\n",
    "\n",
    "        personal = prices[\"Personal\"]\n",
    "        self.assertIn(\"price\", personal)\n",
    "        self.assertIn(\"storage\", personal)\n",
    "        self.assertIn(\"databases\", personal)\n",
    "        self.assertEqual(personal[\"price\"], \"$5\")\n",
    "        self.assertEqual(personal[\"storage\"], \"1GB\")\n",
    "        self.assertEqual(personal[\"databases\"], 1)\n",
    "\n",
    "    def test_02_get_prices_from_url_page3(self):\n",
    "        prices = get_prices_from_url(URL_PAGE3)\n",
    "        self.assertIsInstance(prices, dict)\n",
    "        self.assertEqual(len(prices), 4)\n",
    "        self.assertEqual(\n",
    "            prices[\"Privilege\"], {\"databases\": 100, \"price\": \"$99\", \"storage\": \"1TB\"}\n",
    "        )\n",
    "\n",
    "    def test_03_extract_beer_list_infos(self):\n",
    "        infos = extract_beer_list_infos(URL_BEERLIST_FRANCE)\n",
    "        self.assertIsInstance(infos, list)\n",
    "        self.assertGreater(len(infos), 1)\n",
    "        # Contenu = int\n",
    "        # Degré d’alcool = float\n",
    "        for beer in infos:\n",
    "            self.assertIsInstance(beer[\"Nom\"], str)\n",
    "            self.assertIsInstance(beer[\"Style\"], str)\n",
    "            self.assertIsInstance(beer[\"Contenu\"], int)\n",
    "            self.assertIsInstance(beer[\"Degré d’alcool\"], float)\n",
    "            self.assertEqual(beer[\"Origine\"], \"France\")\n",
    "            self.assertIsInstance(beer[\"Brasseur\"], str)\n",
    "\n",
    "\n",
    "def run_tests():\n",
    "    test_suite = unittest.makeSuite(Session4Tests)\n",
    "    runner = unittest.TextTestRunner(verbosity=2)\n",
    "    runner.run(test_suite)"
   ]
  },
  {
   "cell_type": "code",
   "execution_count": 9,
   "metadata": {},
   "outputs": [
    {
     "name": "stderr",
     "output_type": "stream",
     "text": [
      "test_01_get_prices_from_url_page2 (__main__.Session4Tests) ... ok\n",
      "test_02_get_prices_from_url_page3 (__main__.Session4Tests) ... ok\n",
      "test_03_extract_beer_list_infos (__main__.Session4Tests) ... ok\n",
      "\n",
      "----------------------------------------------------------------------\n",
      "Ran 3 tests in 11.482s\n",
      "\n",
      "OK\n"
     ]
    }
   ],
   "source": [
    "if __name__ == \"__main__\":\n",
    "    run_tests()"
   ]
  }
 ],
 "metadata": {
  "kernelspec": {
   "display_name": "Python 3 (ipykernel)",
   "language": "python",
   "name": "python3"
  },
  "language_info": {
   "codemirror_mode": {
    "name": "ipython",
    "version": 3
   },
   "file_extension": ".py",
   "mimetype": "text/x-python",
   "name": "python",
   "nbconvert_exporter": "python",
   "pygments_lexer": "ipython3",
   "version": "3.9.12"
  }
 },
 "nbformat": 4,
 "nbformat_minor": 4
}
